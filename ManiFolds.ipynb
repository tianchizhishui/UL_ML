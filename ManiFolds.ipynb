{
 "cells": [
  {
   "cell_type": "code",
   "execution_count": 2,
   "id": "337d0fe5-682b-4043-9dae-d929e290b889",
   "metadata": {},
   "outputs": [],
   "source": [
    "import matplotlib.pyplot as plt\n",
    "from sklearn.cluster import KMeans\n",
    "from sklearn import datasets\n",
    "import pandas as pd\n",
    "import numpy as np\n",
    "from sklearn.metrics import accuracy_score\n",
    "\n",
    "%matplotlib inline\n",
    "\n",
    "# read dataset\n",
    "df_train = pd.read_csv(\"titanic_training.csv\")#(\"titanic_training.csv\")\n",
    "df_test = pd.read_csv(\"titanic_testing.csv\")"
   ]
  },
  {
   "cell_type": "code",
   "execution_count": 3,
   "id": "52b4e012-956a-417a-b7d4-e1ad231bca76",
   "metadata": {},
   "outputs": [],
   "source": [
    "def preprocess(df):\n",
    "    df['Sex'] = df['Sex'].map({'female': 1, 'male': 0})\n",
    "    df['Name'] = df['Name'].str.len()\n",
    "    return df"
   ]
  },
  {
   "cell_type": "code",
   "execution_count": 4,
   "id": "de2b1fce-d641-40bd-95cc-2ac169fff6f4",
   "metadata": {},
   "outputs": [],
   "source": [
    "df_train = preprocess(df_train)\n",
    "df_test = preprocess(df_test)"
   ]
  },
  {
   "cell_type": "code",
   "execution_count": 114,
   "id": "cd09e301-308e-4caf-aa6c-b7a19d76a2a4",
   "metadata": {},
   "outputs": [],
   "source": [
    "X = df_train.iloc[:, 0:7] # attributes/inputs\n",
    "y = df_train['Survived'] # output / needs to be predict\n",
    "\n",
    "\n",
    "Xt = df_test.iloc[:, 0:7] # attributes/inputs\n",
    "yt = df_test['Survived'] # output / needs to be predict"
   ]
  },
  {
   "cell_type": "code",
   "execution_count": 115,
   "id": "fd70af01-1da6-4748-8c0c-b03238757468",
   "metadata": {},
   "outputs": [
    {
     "data": {
      "text/plain": [
       "(664, 7)"
      ]
     },
     "execution_count": 115,
     "metadata": {},
     "output_type": "execute_result"
    }
   ],
   "source": [
    "from sklearn.manifold import Isomap\n",
    "\n",
    "mf = Isomap(n_components=7,n_neighbors=10)\n",
    "mf_data = mf.fit_transform(X)\n",
    "mf_data.shape"
   ]
  },
  {
   "cell_type": "code",
   "execution_count": 116,
   "id": "023a3f8a-c7a1-4f72-bf0e-4d094751e6de",
   "metadata": {},
   "outputs": [
    {
     "data": {
      "text/plain": [
       "0.7996987951807228"
      ]
     },
     "execution_count": 116,
     "metadata": {},
     "output_type": "execute_result"
    }
   ],
   "source": [
    "from sklearn.neighbors import KNeighborsClassifier\n",
    "knn_classifier = KNeighborsClassifier(n_neighbors=5, algorithm='auto')\n",
    "knn_classifier.fit(mf_data, y)\n",
    "knn_classifier.score(mf.transform(X), y)"
   ]
  },
  {
   "cell_type": "code",
   "execution_count": 117,
   "id": "d5f239f4-6e52-413d-b0ff-c660eb70e8f4",
   "metadata": {},
   "outputs": [
    {
     "data": {
      "text/plain": [
       "(223, 7)"
      ]
     },
     "execution_count": 117,
     "metadata": {},
     "output_type": "execute_result"
    }
   ],
   "source": [
    "mf_datat = mf.fit_transform(Xt)\n",
    "mf_datat.shape"
   ]
  },
  {
   "cell_type": "code",
   "execution_count": 118,
   "id": "5164ea01-6c69-4bb2-8af1-9e02df04a61f",
   "metadata": {},
   "outputs": [
    {
     "data": {
      "text/plain": [
       "0.7443946188340808"
      ]
     },
     "execution_count": 118,
     "metadata": {},
     "output_type": "execute_result"
    }
   ],
   "source": [
    "knn_classifier = KNeighborsClassifier(n_neighbors=5, algorithm='auto')\n",
    "knn_classifier.fit(mf_datat, yt)\n",
    "knn_classifier.score(mf.transform(Xt), yt)"
   ]
  },
  {
   "cell_type": "code",
   "execution_count": null,
   "id": "f9fff05f-a8ba-4dc1-928a-de4af62b604c",
   "metadata": {},
   "outputs": [],
   "source": []
  },
  {
   "cell_type": "code",
   "execution_count": null,
   "id": "fb55e825-ff8f-4312-9bc1-71be5bcdb0f4",
   "metadata": {},
   "outputs": [],
   "source": []
  }
 ],
 "metadata": {
  "kernelspec": {
   "display_name": "Python 3 (ipykernel)",
   "language": "python",
   "name": "python3"
  },
  "language_info": {
   "codemirror_mode": {
    "name": "ipython",
    "version": 3
   },
   "file_extension": ".py",
   "mimetype": "text/x-python",
   "name": "python",
   "nbconvert_exporter": "python",
   "pygments_lexer": "ipython3",
   "version": "3.9.5"
  }
 },
 "nbformat": 4,
 "nbformat_minor": 5
}
