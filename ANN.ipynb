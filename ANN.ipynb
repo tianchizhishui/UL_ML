{
 "cells": [
  {
   "cell_type": "code",
   "execution_count": 2,
   "id": "53745d5b-6e05-47ce-a353-a925d30c2e1e",
   "metadata": {},
   "outputs": [],
   "source": [
    "import pandas as pd\n",
    "import numpy as np\n",
    "import matplotlib.pyplot as plt\n",
    "from sklearn.model_selection import train_test_split\n",
    "import tflearn"
   ]
  },
  {
   "cell_type": "code",
   "execution_count": 2,
   "id": "9792e142-0111-4b48-8384-1b63342208e7",
   "metadata": {},
   "outputs": [],
   "source": [
    "# df = pd.read_csv(\"titanic.csv\")\n",
    "# df['Sex'] = df['Sex'].map({'female': 1, 'male': 0})\n",
    "# df['Name'] = df['Name'].str.len()\n",
    "# df.head()"
   ]
  },
  {
   "cell_type": "code",
   "execution_count": 3,
   "id": "b8e40882-1d39-44f0-95cf-e9f375c64f5e",
   "metadata": {},
   "outputs": [],
   "source": [
    "# X = df.iloc[:, 0:7].values # attributes/inputs\n",
    "# y = df['Survived'].values # output / needs to be predict\n",
    "# X_train, X_test, y_train, y_test = train_test_split(X, y, test_size=0.15, random_state=42)"
   ]
  },
  {
   "cell_type": "code",
   "execution_count": 4,
   "id": "8d63c067-c26b-483b-bfec-c0e9f85c07fa",
   "metadata": {},
   "outputs": [],
   "source": [
    "# import seaborn as sns\n",
    "\n",
    "# sns.heatmap(df.corr(), cmap=\"YlGnBu\")\n"
   ]
  },
  {
   "cell_type": "code",
   "execution_count": 5,
   "id": "8bd9ead6-27f8-46ea-b2ae-6b9e977d5355",
   "metadata": {},
   "outputs": [],
   "source": [
    "# from sklearn.model_selection import StratifiedShuffleSplit\n",
    "\n",
    "# split = StratifiedShuffleSplit(n_splits=1, test_size=0.15)\n",
    "# for train_indices, test_indices in split.split(df, df[[\"Survived\", \"Pclass\", \"Sex\"]]):\n",
    "#     strat_train_set = df.loc[train_indices]\n",
    "#     strat_test_set = df.loc[test_indices]"
   ]
  },
  {
   "cell_type": "code",
   "execution_count": 6,
   "id": "96af78c9-a454-409b-8d66-c77998ad8298",
   "metadata": {},
   "outputs": [],
   "source": [
    "# plt.subplot(1,2,1)\n",
    "# strat_train_set['Survived'].hist()\n",
    "# strat_train_set['Pclass'].hist()\n",
    "# #strat_train_set['Sex'].hist()\n",
    "\n",
    "# plt.subplot(1,2,2)\n",
    "# strat_test_set['Survived'].hist()\n",
    "# strat_test_set['Pclass'].hist\n",
    "# #strat_test_set['Sex'].hist\n",
    "\n",
    "# plt.show()\n"
   ]
  },
  {
   "cell_type": "code",
   "execution_count": 7,
   "id": "ad748bfe-d511-4205-80d0-cde2a85f8377",
   "metadata": {},
   "outputs": [],
   "source": [
    "#strat_test_set.info()"
   ]
  },
  {
   "cell_type": "code",
   "execution_count": 3,
   "id": "d23203b8-701d-4e85-b83d-4c5bf17526bc",
   "metadata": {},
   "outputs": [],
   "source": [
    "from tflearn.data_utils import load_csv\n",
    "data, labels = load_csv(\"titanic_training.csv\", categorical_labels=True,n_classes=2)"
   ]
  },
  {
   "cell_type": "code",
   "execution_count": 4,
   "id": "5c19ee44-6733-4a16-87d4-713b88e057b4",
   "metadata": {},
   "outputs": [],
   "source": [
    "def preprocess(data): #(data, discarded_columns):\n",
    "    for i in range(len(data)):\n",
    "      # Converting 'sex' field to float (id is 1 after removing labels column)\n",
    "      data[i][1] = float(len(data[i][1]))\n",
    "      data[i][2] = 1. if data[i][2] == 'female' else 0.\n",
    "    return np.array(data, dtype=np.float32)"
   ]
  },
  {
   "cell_type": "code",
   "execution_count": 6,
   "id": "f3645961-198e-4a73-b264-e33f90061183",
   "metadata": {},
   "outputs": [
    {
     "ename": "TypeError",
     "evalue": "object of type 'numpy.float32' has no len()",
     "output_type": "error",
     "traceback": [
      "\u001b[1;31m---------------------------------------------------------------------------\u001b[0m",
      "\u001b[1;31mTypeError\u001b[0m                                 Traceback (most recent call last)",
      "Cell \u001b[1;32mIn[6], line 2\u001b[0m\n\u001b[0;32m      1\u001b[0m \u001b[38;5;66;03m## function calling\u001b[39;00m\n\u001b[1;32m----> 2\u001b[0m data \u001b[38;5;241m=\u001b[39m \u001b[43mpreprocess\u001b[49m\u001b[43m(\u001b[49m\u001b[43mdata\u001b[49m\u001b[43m)\u001b[49m\n\u001b[0;32m      3\u001b[0m data\n",
      "Cell \u001b[1;32mIn[4], line 4\u001b[0m, in \u001b[0;36mpreprocess\u001b[1;34m(data)\u001b[0m\n\u001b[0;32m      1\u001b[0m \u001b[38;5;28;01mdef\u001b[39;00m \u001b[38;5;21mpreprocess\u001b[39m(data): \u001b[38;5;66;03m#(data, discarded_columns):\u001b[39;00m\n\u001b[0;32m      2\u001b[0m     \u001b[38;5;28;01mfor\u001b[39;00m i \u001b[38;5;129;01min\u001b[39;00m \u001b[38;5;28mrange\u001b[39m(\u001b[38;5;28mlen\u001b[39m(data)):\n\u001b[0;32m      3\u001b[0m       \u001b[38;5;66;03m# Converting 'sex' field to float (id is 1 after removing labels column)\u001b[39;00m\n\u001b[1;32m----> 4\u001b[0m       data[i][\u001b[38;5;241m1\u001b[39m] \u001b[38;5;241m=\u001b[39m \u001b[38;5;28mfloat\u001b[39m(\u001b[38;5;28;43mlen\u001b[39;49m\u001b[43m(\u001b[49m\u001b[43mdata\u001b[49m\u001b[43m[\u001b[49m\u001b[43mi\u001b[49m\u001b[43m]\u001b[49m\u001b[43m[\u001b[49m\u001b[38;5;241;43m1\u001b[39;49m\u001b[43m]\u001b[49m\u001b[43m)\u001b[49m)\n\u001b[0;32m      5\u001b[0m       data[i][\u001b[38;5;241m2\u001b[39m] \u001b[38;5;241m=\u001b[39m \u001b[38;5;241m1.\u001b[39m \u001b[38;5;28;01mif\u001b[39;00m data[i][\u001b[38;5;241m2\u001b[39m] \u001b[38;5;241m==\u001b[39m \u001b[38;5;124m'\u001b[39m\u001b[38;5;124mfemale\u001b[39m\u001b[38;5;124m'\u001b[39m \u001b[38;5;28;01melse\u001b[39;00m \u001b[38;5;241m0.\u001b[39m\n\u001b[0;32m      6\u001b[0m     \u001b[38;5;28;01mreturn\u001b[39;00m np\u001b[38;5;241m.\u001b[39marray(data, dtype\u001b[38;5;241m=\u001b[39mnp\u001b[38;5;241m.\u001b[39mfloat32)\n",
      "\u001b[1;31mTypeError\u001b[0m: object of type 'numpy.float32' has no len()"
     ]
    }
   ],
   "source": [
    "## function calling\n",
    "data = preprocess(data)\n",
    "data"
   ]
  },
  {
   "cell_type": "code",
   "execution_count": 478,
   "id": "979810c7-b4e9-42ae-9445-94e9b1d9fe1d",
   "metadata": {},
   "outputs": [],
   "source": [
    "net = tflearn.input_data(shape=[None, 7])\n",
    "net = tflearn.fully_connected(net, 25)\n",
    "net = tflearn.fully_connected(net, 25)\n",
    "net = tflearn.fully_connected(net, 25)\n",
    "net = tflearn.fully_connected(net, 25)\n",
    "net = tflearn.fully_connected(net, 25)\n",
    "net = tflearn.fully_connected(net, 2, activation='softmax')\n",
    "net = tflearn.regression(net)"
   ]
  },
  {
   "cell_type": "code",
   "execution_count": 479,
   "id": "b6367b87-ab02-45cc-8fe7-f49082f559a8",
   "metadata": {},
   "outputs": [
    {
     "name": "stdout",
     "output_type": "stream",
     "text": [
      "Training Step: 509  | total loss: \u001b[1m\u001b[32m0.49396\u001b[0m\u001b[0m | time: 0.053s\n",
      "| Adam | epoch: 015 | loss: 0.49396 - acc: 0.7592 -- iter: 528/531\n",
      "Training Step: 510  | total loss: \u001b[1m\u001b[32m0.49364\u001b[0m\u001b[0m | time: 1.062s\n",
      "| Adam | epoch: 015 | loss: 0.49364 - acc: 0.7708 | val_loss: 0.45101 - val_acc: 0.7895 -- iter: 531/531\n",
      "--\n"
     ]
    }
   ],
   "source": [
    "model = tflearn.DNN(net)\n",
    "# Start training (apply gradient descent algorithm)\n",
    "model.fit(data, labels, n_epoch=15, validation_set=0.2, batch_size=16, show_metric=True)"
   ]
  },
  {
   "cell_type": "code",
   "execution_count": 469,
   "id": "36e1fb90-5ae2-481f-9197-f881261cee84",
   "metadata": {},
   "outputs": [],
   "source": [
    "# predict using the model that has been trained\n",
    "prediction = model.predict(data_test)"
   ]
  },
  {
   "cell_type": "code",
   "execution_count": 470,
   "id": "563e1458-7d03-43ec-870f-c924ef912163",
   "metadata": {},
   "outputs": [],
   "source": [
    "# convert predicted data for prediction accuracy comparison\n",
    "def postprocess(data):\n",
    "    for i in range(len(data)):\n",
    "      if data[i][0] > data[i][1]:\n",
    "          data[i][0] = 1\n",
    "          data[i][1] = 0\n",
    "      else:\n",
    "          data[i][0] = 0\n",
    "          data[i][1] = 1\n",
    "    return np.array(data, dtype=np.float32)"
   ]
  },
  {
   "cell_type": "code",
   "execution_count": 471,
   "id": "13564646-f546-4d86-99fb-6b13649b4e2b",
   "metadata": {},
   "outputs": [],
   "source": [
    "PostPrediction = postprocess(prediction)"
   ]
  },
  {
   "cell_type": "code",
   "execution_count": 472,
   "id": "dffc85eb-5213-4760-99b5-cff1b274fca4",
   "metadata": {},
   "outputs": [],
   "source": [
    "def getSuccessRate(x, y):\n",
    "    count = 0;\n",
    "    for i in range(len(x)):\n",
    "        count += x[i][0] == y[i][0]\n",
    "    return count"
   ]
  },
  {
   "cell_type": "code",
   "execution_count": 473,
   "id": "a45f7991-98f4-45c1-9f31-a0302e653780",
   "metadata": {},
   "outputs": [
    {
     "data": {
      "text/plain": [
       "0.7354260089686099"
      ]
     },
     "execution_count": 473,
     "metadata": {},
     "output_type": "execute_result"
    }
   ],
   "source": [
    "# compare prediction accuracy with testing sample\n",
    "success_rate = getSuccessRate(labels_Test, PostPrediction) / len(PostPrediction)\n",
    "success_rate"
   ]
  },
  {
   "cell_type": "code",
   "execution_count": 474,
   "id": "620416ce-d2d5-4901-acdb-3af1a45b7e07",
   "metadata": {},
   "outputs": [],
   "source": [
    "# run before training model again to solve the index out of bound issue\n",
    "import tensorflow as tf\n",
    "tf.compat.v1.reset_default_graph()"
   ]
  },
  {
   "cell_type": "code",
   "execution_count": null,
   "id": "d530f8fa-1478-4f01-9543-5e300c0d7677",
   "metadata": {},
   "outputs": [],
   "source": []
  },
  {
   "cell_type": "code",
   "execution_count": null,
   "id": "ed44568f-ccfa-4778-b2c6-c0d8f7652a9f",
   "metadata": {},
   "outputs": [],
   "source": []
  }
 ],
 "metadata": {
  "kernelspec": {
   "display_name": "Python 3 (ipykernel)",
   "language": "python",
   "name": "python3"
  },
  "language_info": {
   "codemirror_mode": {
    "name": "ipython",
    "version": 3
   },
   "file_extension": ".py",
   "mimetype": "text/x-python",
   "name": "python",
   "nbconvert_exporter": "python",
   "pygments_lexer": "ipython3",
   "version": "3.9.5"
  }
 },
 "nbformat": 4,
 "nbformat_minor": 5
}
