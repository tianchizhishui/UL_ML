{
 "cells": [
  {
   "cell_type": "code",
   "execution_count": 1,
   "id": "1c8a89a4-b676-4e22-bcd9-39dd103b94fb",
   "metadata": {},
   "outputs": [],
   "source": [
    "import matplotlib.pyplot as plt\n",
    "from sklearn.cluster import KMeans\n",
    "from sklearn import datasets\n",
    "import pandas as pd\n",
    "import numpy as np\n",
    "from sklearn.metrics import accuracy_score\n",
    "\n",
    "%matplotlib inline\n",
    "\n",
    "# read dataset\n",
    "df_train = pd.read_csv(\"titanic_training.csv\")#(\"titanic_training.csv\")\n",
    "df_test = pd.read_csv(\"titanic_testing.csv\")"
   ]
  },
  {
   "cell_type": "code",
   "execution_count": 2,
   "id": "7966efc5-0d95-4bf4-a58b-f8403c72adc2",
   "metadata": {},
   "outputs": [],
   "source": [
    "def preprocess(df):\n",
    "    df['Sex'] = df['Sex'].map({'female': 1, 'male': 0})\n",
    "    df['Name'] = df['Name'].str.len()\n",
    "    return df"
   ]
  },
  {
   "cell_type": "code",
   "execution_count": 3,
   "id": "cacb2b07-64ab-43bf-8f03-2783e7fd43bb",
   "metadata": {},
   "outputs": [],
   "source": [
    "df_train = preprocess(df_train)\n",
    "df_test = preprocess(df_test)"
   ]
  },
  {
   "cell_type": "code",
   "execution_count": 94,
   "id": "de59f11d-feb4-4c01-804e-28ffc2de306d",
   "metadata": {},
   "outputs": [],
   "source": [
    "X = df_train.iloc[:, 0:7] # attributes/inputs\n",
    "y = df_train['Survived'] # output / needs to be predict\n",
    "\n",
    "\n",
    "Xt = df_test.iloc[:, 0:7] # attributes/inputs\n",
    "yt = df_test['Survived'] # output / needs to be predict"
   ]
  },
  {
   "cell_type": "code",
   "execution_count": 95,
   "id": "ec5da0e5-ed81-4743-9d2a-afff7e79f3a4",
   "metadata": {},
   "outputs": [
    {
     "data": {
      "text/plain": [
       "array([[-16.51192579,  -5.07380769,   5.50879804,  -0.11646654,\n",
       "          1.52308218],\n",
       "       [ -9.83138813,  12.07922339,  13.42416508,   0.30120446,\n",
       "          1.72076728],\n",
       "       [ -4.56107612,  16.07360277,  -4.06303304,  -0.07178546,\n",
       "         -0.10097627],\n",
       "       ...,\n",
       "       [ 15.32146786, -16.62328624,   0.82204846,   4.212337  ,\n",
       "         -0.50873755],\n",
       "       [-23.86476221, -13.12287399,  -0.87357188,  -0.77159893,\n",
       "          0.03533548],\n",
       "       [-17.3668719 , -15.09379909,  -5.0294131 ,   0.16057904,\n",
       "         -0.35251133]])"
      ]
     },
     "execution_count": 95,
     "metadata": {},
     "output_type": "execute_result"
    }
   ],
   "source": [
    "from sklearn import decomposition\n",
    "\n",
    "pca = decomposition.PCA(n_components = 5,random_state=42)\n",
    "pca_data = pca.fit_transform(X)\n",
    "pca_data"
   ]
  },
  {
   "cell_type": "code",
   "execution_count": 96,
   "id": "84afbf63-f1b9-4f3c-b231-4cf4625562e1",
   "metadata": {},
   "outputs": [],
   "source": [
    "# import plotly.express as px\n",
    "\n",
    "# fig = px.scatter(x=pca_data[:, 0], y=pca_data[:, 1], color=train_y)\n",
    "# fig.show()"
   ]
  },
  {
   "cell_type": "code",
   "execution_count": 97,
   "id": "8a89090e-68c5-4ec0-9dcd-de1a4bf0cfb9",
   "metadata": {
    "scrolled": true
   },
   "outputs": [
    {
     "data": {
      "text/plain": [
       "0.8057228915662651"
      ]
     },
     "execution_count": 97,
     "metadata": {},
     "output_type": "execute_result"
    }
   ],
   "source": [
    "from sklearn.neighbors import KNeighborsClassifier\n",
    "knn_classifier = KNeighborsClassifier(n_neighbors=5, algorithm='auto')\n",
    "knn_classifier.fit(pca_data, y)\n",
    "knn_classifier.score(pca.transform(X), y)"
   ]
  },
  {
   "cell_type": "code",
   "execution_count": 13,
   "id": "97291b20-eb2f-4bce-a5c0-207adc1fb8b6",
   "metadata": {},
   "outputs": [
    {
     "data": {
      "text/plain": [
       "0.8057228915662651"
      ]
     },
     "execution_count": 13,
     "metadata": {},
     "output_type": "execute_result"
    }
   ],
   "source": [
    "pca2 = decomposition.PCA()\n",
    "pca2.n_components = 5\n",
    "pca_data2 = pca2.fit_transform(X)\n",
    "\n",
    "knn_classifier.fit(pca_data2, y)\n",
    "knn_classifier.score(pca2.transform(X), y)"
   ]
  },
  {
   "cell_type": "code",
   "execution_count": 15,
   "id": "e052e2ac-6a6e-4e8b-8594-68d31dd03aa2",
   "metadata": {},
   "outputs": [
    {
     "data": {
      "text/plain": [
       "0.8102409638554217"
      ]
     },
     "execution_count": 15,
     "metadata": {},
     "output_type": "execute_result"
    }
   ],
   "source": [
    "pca3 = decomposition.PCA()\n",
    "pca3.n_components = 7\n",
    "pca_data3 = pca3.fit_transform(X)\n",
    "\n",
    "knn_classifier.fit(pca_data3, y)\n",
    "knn_classifier.score(pca3.transform(X), y)"
   ]
  },
  {
   "cell_type": "code",
   "execution_count": null,
   "id": "c207b21b-c2d1-4c6f-a13e-2749e8c2cacc",
   "metadata": {},
   "outputs": [],
   "source": [
    "pca4 = decomposition.PCA()\n",
    "pca4.n_components = 7\n",
    "pca_data3 = pca3.fit_transform(X)\n",
    "\n",
    "knn_classifier.fit(pca_data3, y)\n",
    "knn_classifier.score(pca3.transform(X), y)"
   ]
  }
 ],
 "metadata": {
  "kernelspec": {
   "display_name": "Python 3 (ipykernel)",
   "language": "python",
   "name": "python3"
  },
  "language_info": {
   "codemirror_mode": {
    "name": "ipython",
    "version": 3
   },
   "file_extension": ".py",
   "mimetype": "text/x-python",
   "name": "python",
   "nbconvert_exporter": "python",
   "pygments_lexer": "ipython3",
   "version": "3.9.5"
  }
 },
 "nbformat": 4,
 "nbformat_minor": 5
}
