{
 "cells": [
  {
   "cell_type": "code",
   "execution_count": 1,
   "id": "4cc3b575-ff44-4173-b31b-3c22dbd20f85",
   "metadata": {},
   "outputs": [],
   "source": [
    "import matplotlib.pyplot as plt\n",
    "from sklearn.cluster import KMeans\n",
    "from sklearn import datasets\n",
    "import pandas as pd\n",
    "import numpy as np\n",
    "from sklearn.metrics import accuracy_score\n",
    "\n",
    "%matplotlib inline\n",
    "\n",
    "# read dataset\n",
    "df_train = pd.read_csv(\"titanic_training.csv\")#(\"titanic_training.csv\")\n",
    "df_test = pd.read_csv(\"titanic_testing.csv\")"
   ]
  },
  {
   "cell_type": "code",
   "execution_count": 2,
   "id": "4679168e-ce6c-4036-99ca-ea2d8eeb6b0f",
   "metadata": {},
   "outputs": [],
   "source": [
    "def preprocess(df):\n",
    "    df['Sex'] = df['Sex'].map({'female': 1, 'male': 0})\n",
    "    df['Name'] = df['Name'].str.len()\n",
    "    return df"
   ]
  },
  {
   "cell_type": "code",
   "execution_count": 3,
   "id": "39d53871-50ef-42f8-87c8-0d8c85e43767",
   "metadata": {},
   "outputs": [],
   "source": [
    "df_train = preprocess(df_train)\n",
    "df_test = preprocess(df_test)"
   ]
  },
  {
   "cell_type": "code",
   "execution_count": 25,
   "id": "bf6f5a48-bfdc-4bed-a3cf-645b7227d750",
   "metadata": {},
   "outputs": [],
   "source": [
    "X = df_train.iloc[:, 0:7] # attributes/inputs\n",
    "y = df_train['Survived'] # output / needs to be predict\n",
    "\n",
    "\n",
    "Xt = df_test.iloc[:, 0:7] # attributes/inputs\n",
    "yt = df_test['Survived'] # output / needs to be predict"
   ]
  },
  {
   "cell_type": "code",
   "execution_count": 26,
   "id": "69713e70-ba9d-4377-aeac-2b0a8aa9e8aa",
   "metadata": {},
   "outputs": [
    {
     "data": {
      "text/plain": [
       "(664, 1)"
      ]
     },
     "execution_count": 26,
     "metadata": {},
     "output_type": "execute_result"
    }
   ],
   "source": [
    "import numpy as np\n",
    "from sklearn import random_projection\n",
    "\n",
    "rp = random_projection.GaussianRandomProjection(n_components = 1,random_state = 42) ## 1-7 dimensions\n",
    "rp_data = rp.fit_transform(X)\n",
    "rp_data.shape"
   ]
  },
  {
   "cell_type": "code",
   "execution_count": 29,
   "id": "19cfe61d-6ed4-48eb-b738-bd3f370736be",
   "metadata": {},
   "outputs": [
    {
     "data": {
      "text/plain": [
       "0.7364457831325302"
      ]
     },
     "execution_count": 29,
     "metadata": {},
     "output_type": "execute_result"
    }
   ],
   "source": [
    "from sklearn.neighbors import KNeighborsClassifier\n",
    "knn_classifier = KNeighborsClassifier(n_neighbors=5, algorithm='auto')\n",
    "knn_classifier.fit(rp_data, y)\n",
    "knn_classifier.score(rp.transform(X), y)"
   ]
  },
  {
   "cell_type": "code",
   "execution_count": 30,
   "id": "a0a71b39-2e8b-4585-8313-ae25c361cea4",
   "metadata": {},
   "outputs": [
    {
     "data": {
      "text/plain": [
       "0.7309417040358744"
      ]
     },
     "execution_count": 30,
     "metadata": {},
     "output_type": "execute_result"
    }
   ],
   "source": [
    "rp_datat = rp.fit_transform(Xt)\n",
    "knn_classifier = KNeighborsClassifier(n_neighbors=5, algorithm='auto')\n",
    "knn_classifier.fit(rp_datat, yt)\n",
    "knn_classifier.score(rp.transform(Xt), yt)"
   ]
  },
  {
   "cell_type": "code",
   "execution_count": null,
   "id": "d7364a4f-97cd-4371-a3ec-bf5379a5d72a",
   "metadata": {},
   "outputs": [],
   "source": []
  }
 ],
 "metadata": {
  "kernelspec": {
   "display_name": "Python 3 (ipykernel)",
   "language": "python",
   "name": "python3"
  },
  "language_info": {
   "codemirror_mode": {
    "name": "ipython",
    "version": 3
   },
   "file_extension": ".py",
   "mimetype": "text/x-python",
   "name": "python",
   "nbconvert_exporter": "python",
   "pygments_lexer": "ipython3",
   "version": "3.9.5"
  }
 },
 "nbformat": 4,
 "nbformat_minor": 5
}
